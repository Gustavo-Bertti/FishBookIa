{
 "cells": [
  {
   "cell_type": "code",
   "execution_count": 20,
   "id": "061eb1bc-25a1-4b58-bc37-5efc41eee625",
   "metadata": {},
   "outputs": [
    {
     "name": "stdout",
     "output_type": "stream",
     "text": [
      "Histórico de Manutenção\n",
      "0.0    97\n",
      "1.0    78\n",
      "Name: count, dtype: int64\n",
      "2\n",
      "Acurácia: 0.9714285714285714\n",
      "Relatório de Classificação:\n",
      "               precision    recall  f1-score   support\n",
      "\n",
      "         0.0       0.96      1.00      0.98        23\n",
      "         1.0       1.00      0.92      0.96        12\n",
      "\n",
      "    accuracy                           0.97        35\n",
      "   macro avg       0.98      0.96      0.97        35\n",
      "weighted avg       0.97      0.97      0.97        35\n",
      "\n",
      "Matriz de Confusão:\n",
      " [[23  0]\n",
      " [ 1 11]]\n"
     ]
    }
   ],
   "source": [
    "import pandas as pd\n",
    "from sklearn.linear_model import LogisticRegression\n",
    "from sklearn.preprocessing import StandardScaler\n",
    "from sklearn.model_selection import train_test_split\n",
    "from sklearn.metrics import accuracy_score, classification_report, confusion_matrix\n",
    "\n",
    "# Carregar os dados do CSV\n",
    "dados = pd.read_csv('./dataSetFishBook.csv')\n",
    "\n",
    "# Codificar a variável alvo (Histórico de Manutenção)\n",
    "dados['Histórico de Manutenção'] = dados['Histórico de Manutenção'].map({'Bom': 0, 'Regular': 1, 'Excelente': 0})\n",
    "\n",
    "# Verificar a codificação\n",
    "print(dados['Histórico de Manutenção'].value_counts())\n",
    "\n",
    "# Verificar se há valores nulos na variável alvo\n",
    "print(dados['Histórico de Manutenção'].isna().sum())\n",
    "\n",
    "# Remover linhas com valores nulos na variável alvo\n",
    "dados = dados.dropna(subset=['Histórico de Manutenção'])\n",
    "\n",
    "# Codificar variáveis categóricas\n",
    "dados_encoded = pd.get_dummies(dados, drop_first=True)\n",
    "\n",
    "# Definir as características (X) e a variável alvo (y)\n",
    "X = dados_encoded.drop('Histórico de Manutenção', axis=1)  # Características\n",
    "y = dados_encoded['Histórico de Manutenção']  # Variável alvo\n",
    "\n",
    "# Dividir os dados em conjuntos de treinamento e teste\n",
    "X_train, X_test, y_train, y_test = train_test_split(X, y, test_size=0.2, random_state=42)\n",
    "\n",
    "# Escalonar os dados\n",
    "scaler = StandardScaler()\n",
    "X_train_scaled = scaler.fit_transform(X_train)\n",
    "X_test_scaled = scaler.transform(X_test)\n",
    "\n",
    "# Inicializar o modelo de Regressão Logística com o solucionador 'liblinear'\n",
    "modelo = LogisticRegression(max_iter=1000, solver='liblinear')\n",
    "\n",
    "# Treinar o modelo usando os dados de treinamento escalonados\n",
    "modelo.fit(X_train_scaled, y_train)\n",
    "\n",
    "# Fazer previsões nos dados de teste\n",
    "y_pred = modelo.predict(X_test_scaled)\n",
    "\n",
    "# Avaliar o modelo\n",
    "acuracia = accuracy_score(y_test, y_pred)\n",
    "relatorio_classificacao = classification_report(y_test, y_pred)\n",
    "matriz_confusao = confusion_matrix(y_test, y_pred)\n",
    "\n",
    "print(\"Acurácia:\", acuracia)\n",
    "print(\"Relatório de Classificação:\\n\", relatorio_classificacao)\n",
    "print(\"Matriz de Confusão:\\n\", matriz_confusao)\n",
    "\n",
    "\n",
    "\n"
   ]
  },
  {
   "cell_type": "code",
   "execution_count": null,
   "id": "5740cd97-7560-4d5c-accf-356c9d7c9407",
   "metadata": {},
   "outputs": [],
   "source": []
  }
 ],
 "metadata": {
  "kernelspec": {
   "display_name": "Python 3 (ipykernel)",
   "language": "python",
   "name": "python3"
  },
  "language_info": {
   "codemirror_mode": {
    "name": "ipython",
    "version": 3
   },
   "file_extension": ".py",
   "mimetype": "text/x-python",
   "name": "python",
   "nbconvert_exporter": "python",
   "pygments_lexer": "ipython3",
   "version": "3.12.3"
  }
 },
 "nbformat": 4,
 "nbformat_minor": 5
}
